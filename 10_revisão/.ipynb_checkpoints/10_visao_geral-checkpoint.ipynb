{
 "cells": [
  {
   "cell_type": "markdown",
   "id": "84a31a22",
   "metadata": {
    "heading_collapsed": true
   },
   "source": [
    "# O que é Hadoop?"
   ]
  },
  {
   "attachments": {},
   "cell_type": "markdown",
   "id": "e55a894a",
   "metadata": {
    "hidden": true
   },
   "source": [
    "![hadoop.png](../images/hadoop.png)"
   ]
  },
  {
   "cell_type": "markdown",
   "id": "774b29e2",
   "metadata": {
    "hidden": true
   },
   "source": [
    "Mais informações [aqui](https://hadoop.apache.org/)."
   ]
  },
  {
   "cell_type": "code",
   "execution_count": null,
   "id": "0c38e7a5",
   "metadata": {
    "hidden": true
   },
   "outputs": [],
   "source": []
  },
  {
   "cell_type": "markdown",
   "id": "e7cdb710",
   "metadata": {
    "heading_collapsed": true
   },
   "source": [
    "# Hadoop ecosystem"
   ]
  },
  {
   "attachments": {},
   "cell_type": "markdown",
   "id": "058c1ee5",
   "metadata": {
    "hidden": true
   },
   "source": [
    "![HADOOP-ECOSYSTEM-Edureka.png](../images/HADOOP-ECOSYSTEM-Edureka.png)"
   ]
  },
  {
   "cell_type": "code",
   "execution_count": null,
   "id": "a3d362f9",
   "metadata": {
    "hidden": true
   },
   "outputs": [],
   "source": []
  },
  {
   "cell_type": "markdown",
   "id": "1523c1d3",
   "metadata": {
    "heading_collapsed": true
   },
   "source": [
    "# Hadoop Cluster"
   ]
  },
  {
   "attachments": {},
   "cell_type": "markdown",
   "id": "c286dea3",
   "metadata": {
    "hidden": true
   },
   "source": [
    "![HDFS-Hadoop-cluster-architecture.png](../images/HDFS-Hadoop-cluster-architecture.png)"
   ]
  },
  {
   "cell_type": "code",
   "execution_count": null,
   "id": "65601657",
   "metadata": {
    "hidden": true
   },
   "outputs": [],
   "source": []
  },
  {
   "cell_type": "markdown",
   "id": "c6f3bd89",
   "metadata": {
    "heading_collapsed": true
   },
   "source": [
    "# Cloudera"
   ]
  },
  {
   "attachments": {},
   "cell_type": "markdown",
   "id": "7ea39692",
   "metadata": {
    "hidden": true
   },
   "source": [
    "![cloudera.PNG](../images/cloudera.PNG)"
   ]
  },
  {
   "attachments": {},
   "cell_type": "markdown",
   "id": "46a1e854",
   "metadata": {
    "hidden": true
   },
   "source": [
    "![cdh-diagram1.png](../images/cdh-diagram1.png)"
   ]
  },
  {
   "cell_type": "markdown",
   "id": "95654498",
   "metadata": {
    "hidden": true
   },
   "source": [
    "Mais informações [aqui](https://www.cloudera.com/products/open-source/apache-hadoop.html#:~:text=CDH%2C%20the%20world's%20most%20popular,standards%20for%20stability%20and%20reliability.)."
   ]
  },
  {
   "cell_type": "code",
   "execution_count": null,
   "id": "ed8324d4",
   "metadata": {
    "hidden": true
   },
   "outputs": [],
   "source": []
  },
  {
   "cell_type": "markdown",
   "id": "7146e6d0",
   "metadata": {
    "heading_collapsed": true
   },
   "source": [
    "# Databricks"
   ]
  },
  {
   "attachments": {},
   "cell_type": "markdown",
   "id": "4eedbba7",
   "metadata": {
    "hidden": true
   },
   "source": [
    "![databricks.png](../images/databricks.png)"
   ]
  },
  {
   "attachments": {},
   "cell_type": "markdown",
   "id": "62fcf2b6",
   "metadata": {
    "hidden": true
   },
   "source": [
    "![databricks_arch.PNG](../images/databricks_arch.PNG)"
   ]
  },
  {
   "cell_type": "code",
   "execution_count": null,
   "id": "e106fadf",
   "metadata": {
    "hidden": true
   },
   "outputs": [],
   "source": []
  },
  {
   "cell_type": "markdown",
   "id": "a759dd5e",
   "metadata": {
    "heading_collapsed": true
   },
   "source": [
    "# Hadoop (Cloudera) vs Databricks"
   ]
  },
  {
   "attachments": {},
   "cell_type": "markdown",
   "id": "b1c7adc1",
   "metadata": {
    "hidden": true
   },
   "source": [
    "![hadoop_databricks.PNG](../images/hadoop_databricks.PNG)"
   ]
  },
  {
   "attachments": {},
   "cell_type": "markdown",
   "id": "ca044572",
   "metadata": {
    "hidden": true
   },
   "source": [
    "![hadoop_databricks_1.png](../images/hadoop_databricks_1.png)"
   ]
  },
  {
   "cell_type": "markdown",
   "id": "1953bd0c",
   "metadata": {
    "hidden": true
   },
   "source": [
    "Retirado [daqui](https://databricks.com/wp-content/uploads/2021/08/Migrating-Hadoop-to-Databricks-Ebook-FINAL.pdf)."
   ]
  },
  {
   "cell_type": "code",
   "execution_count": null,
   "id": "9f4302a6",
   "metadata": {
    "hidden": true
   },
   "outputs": [],
   "source": []
  },
  {
   "cell_type": "code",
   "execution_count": null,
   "id": "496c95f4",
   "metadata": {
    "hidden": true
   },
   "outputs": [],
   "source": []
  },
  {
   "cell_type": "markdown",
   "id": "12fd9e38",
   "metadata": {
    "heading_collapsed": true
   },
   "source": [
    "# AWS"
   ]
  },
  {
   "attachments": {},
   "cell_type": "markdown",
   "id": "9fac8927",
   "metadata": {
    "hidden": true
   },
   "source": [
    "![aws_data_structure.png](../images/aws_data_structure.png)"
   ]
  },
  {
   "cell_type": "code",
   "execution_count": null,
   "id": "4a9350af",
   "metadata": {
    "hidden": true
   },
   "outputs": [],
   "source": []
  }
 ],
 "metadata": {
  "kernelspec": {
   "display_name": "Python 3",
   "language": "python",
   "name": "python3"
  },
  "language_info": {
   "codemirror_mode": {
    "name": "ipython",
    "version": 3
   },
   "file_extension": ".py",
   "mimetype": "text/x-python",
   "name": "python",
   "nbconvert_exporter": "python",
   "pygments_lexer": "ipython3",
   "version": "3.8.8"
  },
  "toc": {
   "base_numbering": 1,
   "nav_menu": {},
   "number_sections": true,
   "sideBar": true,
   "skip_h1_title": false,
   "title_cell": "Table of Contents",
   "title_sidebar": "Contents",
   "toc_cell": false,
   "toc_position": {},
   "toc_section_display": true,
   "toc_window_display": true
  }
 },
 "nbformat": 4,
 "nbformat_minor": 5
}
