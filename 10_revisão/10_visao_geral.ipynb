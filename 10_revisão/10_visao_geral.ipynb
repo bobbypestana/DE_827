{
 "cells": [
  {
   "cell_type": "markdown",
   "id": "79eaec00",
   "metadata": {},
   "source": [
    "# O que é Hadoop?"
   ]
  },
  {
   "attachments": {},
   "cell_type": "markdown",
   "id": "3ef275d3",
   "metadata": {},
   "source": [
    "![hadoop.png](../images/hadoop.png)"
   ]
  },
  {
   "cell_type": "markdown",
   "id": "7485d083",
   "metadata": {},
   "source": [
    "Mais informações [aqui](https://hadoop.apache.org/)."
   ]
  },
  {
   "cell_type": "code",
   "execution_count": null,
   "id": "3f48a161",
   "metadata": {},
   "outputs": [],
   "source": []
  },
  {
   "cell_type": "markdown",
   "id": "8527dde4",
   "metadata": {},
   "source": [
    "# Hadoop ecosystem"
   ]
  },
  {
   "attachments": {},
   "cell_type": "markdown",
   "id": "e3d4a23a",
   "metadata": {},
   "source": [
    "![HADOOP-ECOSYSTEM-Edureka.png](../images/HADOOP-ECOSYSTEM-Edureka.png)"
   ]
  },
  {
   "cell_type": "code",
   "execution_count": null,
   "id": "b79e7d9c",
   "metadata": {},
   "outputs": [],
   "source": []
  },
  {
   "cell_type": "markdown",
   "id": "85c0b8f4",
   "metadata": {},
   "source": [
    "# Hadoop Cluster"
   ]
  },
  {
   "attachments": {},
   "cell_type": "markdown",
   "id": "285eccc0",
   "metadata": {},
   "source": [
    "![HDFS-Hadoop-cluster-architecture.png](../images/HDFS-Hadoop-cluster-architecture.png)"
   ]
  },
  {
   "cell_type": "code",
   "execution_count": null,
   "id": "f69e6009",
   "metadata": {},
   "outputs": [],
   "source": []
  },
  {
   "cell_type": "markdown",
   "id": "f42edf62",
   "metadata": {
    "heading_collapsed": true
   },
   "source": [
    "# Cloudera"
   ]
  },
  {
   "attachments": {},
   "cell_type": "markdown",
   "id": "d01c6cbb",
   "metadata": {
    "hidden": true
   },
   "source": [
    "![cloudera.PNG](../images/cloudera.PNG)"
   ]
  },
  {
   "attachments": {},
   "cell_type": "markdown",
   "id": "d15f7345",
   "metadata": {
    "hidden": true
   },
   "source": [
    "![cdh-diagram1.png](../images/cdh-diagram1.png)"
   ]
  },
  {
   "cell_type": "markdown",
   "id": "5e803c52",
   "metadata": {
    "hidden": true
   },
   "source": [
    "Mais informações [aqui](https://www.cloudera.com/products/open-source/apache-hadoop.html#:~:text=CDH%2C%20the%20world's%20most%20popular,standards%20for%20stability%20and%20reliability.)."
   ]
  },
  {
   "cell_type": "code",
   "execution_count": null,
   "id": "243b1e54",
   "metadata": {
    "hidden": true
   },
   "outputs": [],
   "source": []
  },
  {
   "cell_type": "markdown",
   "id": "64bae287",
   "metadata": {
    "heading_collapsed": true
   },
   "source": [
    "# Databricks"
   ]
  },
  {
   "attachments": {},
   "cell_type": "markdown",
   "id": "70aab11f",
   "metadata": {
    "hidden": true
   },
   "source": [
    "![databricks.png](../images/databricks.png)"
   ]
  },
  {
   "attachments": {},
   "cell_type": "markdown",
   "id": "5f8bf98d",
   "metadata": {
    "hidden": true
   },
   "source": [
    "![databricks_arch.PNG](../images/databricks_arch.PNG)"
   ]
  },
  {
   "cell_type": "code",
   "execution_count": null,
   "id": "31a01e9a",
   "metadata": {
    "hidden": true
   },
   "outputs": [],
   "source": []
  },
  {
   "cell_type": "markdown",
   "id": "d9ebbb83",
   "metadata": {
    "heading_collapsed": true
   },
   "source": [
    "# Hadoop (Cloudera) vs Databricks"
   ]
  },
  {
   "attachments": {},
   "cell_type": "markdown",
   "id": "58f93745",
   "metadata": {
    "hidden": true
   },
   "source": [
    "![hadoop_databricks.PNG](../images/hadoop_databricks.PNG)"
   ]
  },
  {
   "attachments": {},
   "cell_type": "markdown",
   "id": "90dd248d",
   "metadata": {
    "hidden": true
   },
   "source": [
    "![hadoop_databricks_1.png](../images/hadoop_databricks_1.png)"
   ]
  },
  {
   "cell_type": "markdown",
   "id": "fefe491f",
   "metadata": {
    "hidden": true
   },
   "source": [
    "Retirado [daqui](https://databricks.com/wp-content/uploads/2021/08/Migrating-Hadoop-to-Databricks-Ebook-FINAL.pdf)."
   ]
  },
  {
   "cell_type": "code",
   "execution_count": null,
   "id": "c915974d",
   "metadata": {
    "hidden": true
   },
   "outputs": [],
   "source": []
  },
  {
   "cell_type": "code",
   "execution_count": null,
   "id": "4075e6a4",
   "metadata": {
    "hidden": true
   },
   "outputs": [],
   "source": []
  },
  {
   "cell_type": "markdown",
   "id": "e851abfd",
   "metadata": {
    "heading_collapsed": true
   },
   "source": [
    "# AWS"
   ]
  },
  {
   "attachments": {},
   "cell_type": "markdown",
   "id": "574ff07b",
   "metadata": {
    "hidden": true
   },
   "source": [
    "![aws_data_structure.png](../images/aws_data_structure.png)"
   ]
  },
  {
   "cell_type": "code",
   "execution_count": null,
   "id": "cdadad3c",
   "metadata": {
    "hidden": true
   },
   "outputs": [],
   "source": []
  }
 ],
 "metadata": {
  "kernelspec": {
   "display_name": "Python 3",
   "language": "python",
   "name": "python3"
  },
  "language_info": {
   "codemirror_mode": {
    "name": "ipython",
    "version": 3
   },
   "file_extension": ".py",
   "mimetype": "text/x-python",
   "name": "python",
   "nbconvert_exporter": "python",
   "pygments_lexer": "ipython3",
   "version": "3.8.8"
  },
  "toc": {
   "base_numbering": 1,
   "nav_menu": {},
   "number_sections": true,
   "sideBar": true,
   "skip_h1_title": false,
   "title_cell": "Table of Contents",
   "title_sidebar": "Contents",
   "toc_cell": false,
   "toc_position": {
    "height": "calc(100% - 180px)",
    "left": "10px",
    "top": "150px",
    "width": "251.319px"
   },
   "toc_section_display": true,
   "toc_window_display": true
  }
 },
 "nbformat": 4,
 "nbformat_minor": 5
}
