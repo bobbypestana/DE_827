{
 "cells": [
  {
   "cell_type": "markdown",
   "id": "5f68d591",
   "metadata": {},
   "source": [
    "# Material"
   ]
  },
  {
   "cell_type": "markdown",
   "id": "91afebfa",
   "metadata": {},
   "source": [
    "As aulas foram realizadas na palataforma [Databricks](https://community.cloud.databricks.com/) e os notebooks se econtram nos links abaixo.\n",
    "\n",
    "- [aula 04](https://databricks-prod-cloudfront.cloud.databricks.com/public/4027ec902e239c93eaaa8714f173bcfc/3005873641277679/270671672566254/12772218158769/latest.html)\n",
    "- [aula 05](https://databricks-prod-cloudfront.cloud.databricks.com/public/4027ec902e239c93eaaa8714f173bcfc/3005873641277679/1603821931637176/12772218158769/latest.html)\n",
    "- [aula 06](https://databricks-prod-cloudfront.cloud.databricks.com/public/4027ec902e239c93eaaa8714f173bcfc/3005873641277679/1239097703104343/12772218158769/latest.html)\n",
    "- [aula 07](https://databricks-prod-cloudfront.cloud.databricks.com/public/4027ec902e239c93eaaa8714f173bcfc/3005873641277679/33322970060159/12772218158769/latest.html)\n",
    "- [aula 08]()"
   ]
  },
  {
   "cell_type": "markdown",
   "id": "a4a3a459",
   "metadata": {},
   "source": []
  }
 ],
 "metadata": {
  "kernelspec": {
   "display_name": "Python 3",
   "language": "python",
   "name": "python3"
  },
  "language_info": {
   "codemirror_mode": {
    "name": "ipython",
    "version": 3
   },
   "file_extension": ".py",
   "mimetype": "text/x-python",
   "name": "python",
   "nbconvert_exporter": "python",
   "pygments_lexer": "ipython3",
   "version": "3.8.8"
  },
  "toc": {
   "base_numbering": 1,
   "nav_menu": {},
   "number_sections": true,
   "sideBar": true,
   "skip_h1_title": false,
   "title_cell": "Table of Contents",
   "title_sidebar": "Contents",
   "toc_cell": false,
   "toc_position": {},
   "toc_section_display": true,
   "toc_window_display": false
  }
 },
 "nbformat": 4,
 "nbformat_minor": 5
}
