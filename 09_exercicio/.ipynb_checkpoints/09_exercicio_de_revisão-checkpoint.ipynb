{
 "cells": [
  {
   "cell_type": "markdown",
   "id": "056a683d",
   "metadata": {},
   "source": [
    "# Exercicios para treinar"
   ]
  },
  {
   "cell_type": "markdown",
   "id": "e810f6e3",
   "metadata": {},
   "source": [
    "Faça análise dos resultados de partidas de futebol existentes no arquivo `dados/futebol/results.csv`"
   ]
  },
  {
   "cell_type": "markdown",
   "id": "eb5f71fe",
   "metadata": {},
   "source": [
    "## Fluxo dos dados\n",
    "\n",
    "\n",
    "Crie uma `tabela` a partir do `arquivo` disponível que contenha a seguinte estrutura:\n",
    "\n",
    "| Campo Arquivo  | Campo Hive           | Tipo    | Descrição                                                              |\n",
    "|----------------|----------------------|---------|------------------------------------------------------------------------|\n",
    "| date           | Data                 | date    | quando jogo ocorreu                                                    |\n",
    "| home_teamName  | equipe_mandante      | string  | equipe da casa                                                         |\n",
    "| away_teamName  | equipe_visitante     | string  | equipe visitante                                                       |\n",
    "| home_scoreHome | gol_equipe_mandante  | int     | pontuação equipe da casa                                               |\n",
    "| away_scoreAway | gol_equipe_visitante | int     | pontuação equipe visitante                                             |\n",
    "| tournamentName | torneio              | string  | torneio                                                                |\n",
    "| cityCity       | cidade               | string  | onde o jogo aconteceu                                                  |\n",
    "| countryCountry | pais                 | string  | onde a partida ocorreu                                                 |\n",
    "| neutralTRUE    | fora_pais            | boolean | se o jogo ocorreu fora do país da equipe da casa, FALSE caso contrário |"
   ]
  },
  {
   "cell_type": "markdown",
   "id": "82f66c5c",
   "metadata": {},
   "source": [
    "<details>\n",
    "    <summary> Guia 👀 🙆‍♂️  🙋‍ </summary>\n",
    "        \n",
    "        1. Carregue o arquivo no sistema distribuido.\n",
    "        2. Crie um schema `fut_hist_dl`.\n",
    "        3. Crie a tabela `results` dentro desse schema.\n",
    "        4. Crie um schema `fut_hist_dw`.\n",
    "            A. É necessário uma `fut_hist_stg`?\n",
    "        5. Crie a tabela `results` dentro desse schema, partindo de `fut_hist_dl` e usando a estrutura proposta.\n",
    "    \n",
    "</details>"
   ]
  },
  {
   "cell_type": "code",
   "execution_count": null,
   "id": "b5507f7a",
   "metadata": {},
   "outputs": [],
   "source": []
  },
  {
   "cell_type": "markdown",
   "id": "fa88e366",
   "metadata": {},
   "source": [
    "# Análises com Pypark \n",
    "\n",
    "1. quantos registro existem no dataframe?\n",
    "\n",
    "1. quantas equipes únicas mandantes existem no dataframe?\n",
    "\n",
    "1. quantas vezes as equipes mandantes saíram vitoriosas?\n",
    "\n",
    "1. quantas vezes as equipes visitantes saíram vitoriosas?\n",
    "\n",
    "1. quantas partidas resultaram em empate?\n",
    "\n",
    "1. crie uma tabela partida_pais com o total de partida em cadas país.\n",
    "    1.  qual país sediou mais partidas?\n",
    "\n",
    "1. Uma análise que ilustre a quantidade total e porcentagem de mandantes vencedores, perdedores e empates.\n",
    "\n",
    "1. Uma análise que elenque os países cujas seleções tiveram menos derrotas (e quantidade delas).\n",
    "\n",
    "1. Uma análise que mostre a quantidade acumulada de jogos feita por países selecionados ao longo dos anos.\n",
    "\n",
    "1. Caso todos estes jogos fossem parte de um único campeonato de pontos corridos, onde uma vitória vale três pontos, um empate vale um e uma derrota zero, quais seriam os três primeiros colocados?\n",
    "\n",
    "1. Crie uma tabela com os resultados do suposto campeonato acima. Inclua\n",
    "- nome da seleção\n",
    "- pontos\n",
    "- partidas disputadas\n",
    "- vitórias\n",
    "- empates\n",
    "- derrotas\n",
    "- gols pro\n",
    "- gols contra\n",
    "- saldo de gols"
   ]
  },
  {
   "cell_type": "code",
   "execution_count": null,
   "id": "3bfab4db",
   "metadata": {},
   "outputs": [],
   "source": []
  },
  {
   "cell_type": "markdown",
   "id": "7e94c8bb",
   "metadata": {},
   "source": [
    "# Desafio"
   ]
  },
  {
   "cell_type": "markdown",
   "id": "4f6bac77",
   "metadata": {},
   "source": [
    "Crie um notebook único que rode desde o processo de preparação dos dados até o último resultado das análises sem quebrar."
   ]
  },
  {
   "cell_type": "code",
   "execution_count": null,
   "id": "730f8881",
   "metadata": {},
   "outputs": [],
   "source": []
  }
 ],
 "metadata": {
  "kernelspec": {
   "display_name": "Python 3",
   "language": "python",
   "name": "python3"
  },
  "language_info": {
   "codemirror_mode": {
    "name": "ipython",
    "version": 3
   },
   "file_extension": ".py",
   "mimetype": "text/x-python",
   "name": "python",
   "nbconvert_exporter": "python",
   "pygments_lexer": "ipython3",
   "version": "3.8.8"
  },
  "toc": {
   "base_numbering": 1,
   "nav_menu": {},
   "number_sections": true,
   "sideBar": true,
   "skip_h1_title": false,
   "title_cell": "Table of Contents",
   "title_sidebar": "Contents",
   "toc_cell": false,
   "toc_position": {},
   "toc_section_display": true,
   "toc_window_display": false
  }
 },
 "nbformat": 4,
 "nbformat_minor": 5
}
