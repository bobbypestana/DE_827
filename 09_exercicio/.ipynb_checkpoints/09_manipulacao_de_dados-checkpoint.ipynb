{
 "cells": [
  {
   "cell_type": "markdown",
   "id": "c73cdc79",
   "metadata": {},
   "source": [
    "# Exercicio\n",
    "\n",
    "1. Leia o arquivo na `dados/json/clientes.json`.\n",
    "1. Crie uma tabela com as informações dos clientes, no formato.\n",
    "\n",
    "| nome | Data de Nascimento | RG | CPF | email | telefone | CEP | sexo | raça | nível de programação | escolaridade |\n",
    "|------|--------------------|----|-----|-------|----------|-----|------|------|----------------------|--------------| \n",
    "|xxx|xxx|xxx|xxx|xxx|xxxx|xxx|xxx|xxx|xxx| xxx| "
   ]
  },
  {
   "cell_type": "code",
   "execution_count": 1,
   "id": "4f077b64",
   "metadata": {
    "ExecuteTime": {
     "end_time": "2022-02-18T13:24:00.283017Z",
     "start_time": "2022-02-18T13:24:00.277021Z"
    }
   },
   "outputs": [],
   "source": [
    "import json"
   ]
  },
  {
   "cell_type": "code",
   "execution_count": 4,
   "id": "4b8018ed",
   "metadata": {
    "ExecuteTime": {
     "end_time": "2022-02-18T13:25:04.571689Z",
     "start_time": "2022-02-18T13:25:04.562530Z"
    }
   },
   "outputs": [],
   "source": [
    "def read_json(path):        \n",
    "    with open(path, \"r\") as read_file:\n",
    "        data = json.load(read_file)\n",
    "    return data"
   ]
  },
  {
   "cell_type": "code",
   "execution_count": 7,
   "id": "acab9e06",
   "metadata": {
    "ExecuteTime": {
     "end_time": "2022-02-18T13:26:13.673336Z",
     "start_time": "2022-02-18T13:26:13.646701Z"
    }
   },
   "outputs": [
    {
     "data": {
      "text/plain": [
       "{'Records': [{'eventID': 'c4ca4238a0b923820dcc509a6f75849b',\n",
       "   'eventName': 'INSERT',\n",
       "   'eventVersion': '1.1',\n",
       "   'eventSource': 'aws:dynamodb',\n",
       "   'awsRegion': 'us-east-1',\n",
       "   'dynamodb': {'Keys': {'sortKey': {'S': 'SELECTIVE_PROCESS#a58b4b12-c3be-4b6f-aeaa-3e5aa297b24a#ENROLLMENT'},\n",
       "     'partitionKey': {'S': '76db5613-2a7b-4b76-843a-5b3c9ee9b9de'}},\n",
       "    'NewImage': {'partitionKey': {'S': '76db5613-2a7b-4b76-843a-5b3c9ee9b9de'},\n",
       "     'sortKey': {'S': 'SELECTIVE_PROCESS#a58b4b12-c3be-4b6f-aeaa-3e5aa297b24a#ENROLLMENT'},\n",
       "     'currentFase': {'S': '7a362ab9-ec70-4412-b208-91a2fe08a461'},\n",
       "     'cpf': {'S': '107.089.727-21'},\n",
       "     'uuid': {'S': '76db5613-2a7b-4b76-843a-5b3c9ee9b9de'},\n",
       "     'email': {'S': 'candidato78@test.com'},\n",
       "     'name': {'S': 'Candidato 78'},\n",
       "     'additionalInfo': {'L': [{'M': {'value': {'S': 'candidato78@test.com'},\n",
       "         'key': {'S': 'emailConfirmation'}}},\n",
       "       {'M': {'value': {'S': '(99) 99999-9999'}, 'key': {'S': 'Telefone'}}},\n",
       "       {'M': {'value': {'S': '00000-000'}, 'key': {'S': 'CEP'}}},\n",
       "       {'M': {'value': {'S': '999999999'}, 'key': {'S': 'RG'}}},\n",
       "       {'M': {'value': {'S': '10/04/1999'},\n",
       "         'key': {'S': 'Data de Nascimento'}}},\n",
       "       {'M': {'value': {'S': 'Homem Cis'}, 'key': {'S': 'GÃªnero'}}},\n",
       "       {'M': {'value': {'S': 'Pardo'}, 'key': {'S': 'Etnia'}}},\n",
       "       {'M': {'value': {'S': 'JÃ¡ programei um pouco seguindo tutoriais guiados'},\n",
       "         'key': {'S': 'Assinale a alternativa mais prÃ³xima ao seu conhecimento em programaÃ§Ã£o*'}}},\n",
       "       {'M': {'value': {'S': 'NÃ£o tenho (ou nÃ£o estou em) formaÃ§Ã£o superior'},\n",
       "         'key': {'S': 'Assinale a alternativa mais prÃ³xima com relaÃ§Ã£o Ã\\xa0 sua formaÃ§Ã£o*'}}},\n",
       "       {'M': {'value': {'S': 'accepted'}, 'key': {'S': 'privacy-policy'}}}]},\n",
       "     'lastModifiedAt': {'S': '2021-08-31T13:50:27.523+00:00'}},\n",
       "    'ApproximateCreationDateTime': 1428537600,\n",
       "    'SequenceNumber': '4421584500000000017450439091',\n",
       "    'SizeBytes': 26,\n",
       "    'StreamViewType': 'NEW_AND_OLD_IMAGES'},\n",
       "   'eventSourceARN': 'arn:aws:dynamodb:us-east-1:123456789012:table/ExampleTableWithStream/stream/2015-06-27T00:48:05.899'}]}"
      ]
     },
     "execution_count": 7,
     "metadata": {},
     "output_type": "execute_result"
    }
   ],
   "source": [
    "path = '../dados/json/clientes.json'\n",
    "data = read_json(path)\n",
    "data"
   ]
  },
  {
   "cell_type": "code",
   "execution_count": null,
   "id": "a0f18eb9",
   "metadata": {},
   "outputs": [],
   "source": []
  }
 ],
 "metadata": {
  "kernelspec": {
   "display_name": "Python 3",
   "language": "python",
   "name": "python3"
  },
  "language_info": {
   "codemirror_mode": {
    "name": "ipython",
    "version": 3
   },
   "file_extension": ".py",
   "mimetype": "text/x-python",
   "name": "python",
   "nbconvert_exporter": "python",
   "pygments_lexer": "ipython3",
   "version": "3.8.8"
  },
  "toc": {
   "base_numbering": 1,
   "nav_menu": {},
   "number_sections": true,
   "sideBar": true,
   "skip_h1_title": false,
   "title_cell": "Table of Contents",
   "title_sidebar": "Contents",
   "toc_cell": false,
   "toc_position": {},
   "toc_section_display": true,
   "toc_window_display": false
  }
 },
 "nbformat": 4,
 "nbformat_minor": 5
}
