{
 "cells": [
  {
   "cell_type": "markdown",
   "id": "00a4316c",
   "metadata": {},
   "source": [
    "# Exercícios para treinar"
   ]
  },
  {
   "cell_type": "markdown",
   "id": "4f505d42",
   "metadata": {},
   "source": [
    "## Vamos entender a diferença prática entre `internal` e `external` tables no Hive. \n",
    "\n",
    "- `internal`: Hive tem o controle dos dados.\n",
    "- `external`: Hive apenas lê os dados.\n",
    "\n",
    "1. Crie um diretório `/user/hive/teste`.\n",
    "1. Crie dois diretórios: `/user/hive/teste/internal` e `/user/hive/teste/external`.\n",
    "1. Mova o arquivo `aula.txt` do FileSystem para os diretórios `internal` e `external`.\n",
    "1. Confira os arquivos presentes nos diretórios  `internal` e `external` (HUE e CLI).\n",
    "1. Confira o conteúdo da pasta `/user/hive/warehouse`.\n",
    "1. Cria uma tabela interna `exemplo_internal`.\n",
    "1. Faça o carregamento do arquivo `/user/hive/teste/internal/aula.txt` nessa tabela.\n",
    "1. Execute o comando `show tables`. A tabela foi criada?\n",
    "1. Explore a pasta `/user/hive/teste/internal`. O que você observa?\n",
    "1. Cria uma tabela externa `exemplo_external`.\n",
    "1. Faça o carregamento do arquivo `/user/hive/teste/external/aula.txt` nessa tabela.\n",
    "1. Execute o comando `show tables`. A tabela foi criada?\n",
    "1. Explore a pasta `/user/hive/teste/internal`. O que você observa?\n",
    "1. Confira o conteúdo da pasta `/user/hive/warehouse`. O que você observa?\n",
    "1. Rode um comando `select *` nas tabaleas `exemplo_external` e `exemplo_internal`. Funcionou?\n",
    "1. De um `drop` na tabela `exemplo_internal`.\n",
    "1. Execute o comando `show tables`. A tabela foi deletada?\n",
    "1. Confira o conteúdo da pasta `/user/hive/warehouse`. A tabela/ os dados estão lá?\n",
    "1. De um `drop` na tabela `exemplo_external`.\n",
    "1. Execute o comando `show tables`. A tabela foi deletada?\n",
    "1. Confira o conteúdo da pasta `/user/hive/warehouse`. A tabela/ os dados estão lá?\n",
    "1. Entendeu?"
   ]
  },
  {
   "cell_type": "code",
   "execution_count": null,
   "id": "969a6fd9",
   "metadata": {},
   "outputs": [],
   "source": []
  },
  {
   "cell_type": "markdown",
   "id": "9ccc5cba",
   "metadata": {},
   "source": [
    "# Usando funções"
   ]
  },
  {
   "cell_type": "markdown",
   "id": "a039cf17",
   "metadata": {},
   "source": [
    "Vimos na aula de hadoop como funcionava MapReduce utilizando exemplo do WordCount, agora sabendo como hive funciona, vamos criar uma tabela no hive e executar uma query que faça mesmo trabalho do WordCount num formato mais simples lembrando das funções Split e Explode. \n",
    "\n",
    "\n",
    "1. Crie uma tabela com o nome WordCount e um campo chamado word, com o tipo string. A tabela deve apontar para /user/hive/aula (LOCATION).  \n",
    "\n",
    "2. Crie um diretório no HDFS e um arquivo, com a estrutura /user/hive/aula/aula.txt  \n",
    "\n",
    "3. Edite o arquivo incluindo o conteúdo: \n",
    "\n",
    "    **aula hive hadoop hive sql hue aula word count hue java sql hue **\n",
    "\n",
    "\n",
    "4. Desenvolva uma query que retorne a contagem das palavras. "
   ]
  },
  {
   "cell_type": "code",
   "execution_count": 1,
   "id": "3c38e746",
   "metadata": {
    "ExecuteTime": {
     "end_time": "2021-08-23T21:06:21.961009Z",
     "start_time": "2021-08-23T21:06:21.952221Z"
    }
   },
   "outputs": [],
   "source": [
    "## codigo"
   ]
  },
  {
   "cell_type": "code",
   "execution_count": 2,
   "id": "1c9a330c",
   "metadata": {
    "ExecuteTime": {
     "end_time": "2021-08-23T21:06:27.670959Z",
     "start_time": "2021-08-23T21:06:27.667057Z"
    }
   },
   "outputs": [],
   "source": [
    "## print"
   ]
  },
  {
   "cell_type": "code",
   "execution_count": null,
   "id": "1f54a82e",
   "metadata": {},
   "outputs": [],
   "source": []
  }
 ],
 "metadata": {
  "kernelspec": {
   "display_name": "Python 3",
   "language": "python",
   "name": "python3"
  },
  "language_info": {
   "codemirror_mode": {
    "name": "ipython",
    "version": 3
   },
   "file_extension": ".py",
   "mimetype": "text/x-python",
   "name": "python",
   "nbconvert_exporter": "python",
   "pygments_lexer": "ipython3",
   "version": "3.8.8"
  },
  "toc": {
   "base_numbering": 1,
   "nav_menu": {},
   "number_sections": true,
   "sideBar": true,
   "skip_h1_title": false,
   "title_cell": "Table of Contents",
   "title_sidebar": "Contents",
   "toc_cell": false,
   "toc_position": {},
   "toc_section_display": true,
   "toc_window_display": true
  }
 },
 "nbformat": 4,
 "nbformat_minor": 5
}
