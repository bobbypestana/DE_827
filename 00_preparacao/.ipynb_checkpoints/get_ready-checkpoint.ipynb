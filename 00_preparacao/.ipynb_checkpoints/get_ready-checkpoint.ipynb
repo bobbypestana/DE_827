{
 "cells": [
  {
   "cell_type": "markdown",
   "id": "dd2ecb88",
   "metadata": {},
   "source": [
    "# Cloudera Quickstart VM"
   ]
  },
  {
   "cell_type": "markdown",
   "id": "23673968",
   "metadata": {},
   "source": [
    "1. Instalar [Oracle Virtual Box](https://www.virtualbox.org/).\n",
    "1. Baixar e descompactar [cloudera-quickstart-vm-5.13.0-0-virtualbox](https://drive.google.com/file/d/119uTTdSncunEb4bESvArddFY_8Tk4PBX/view?usp=sharing).\n",
    "1. Importe o arquivo da cloudera no Virtual Box e deixe as opções padrões."
   ]
  },
  {
   "attachments": {},
   "cell_type": "markdown",
   "id": "1de7e3ed",
   "metadata": {},
   "source": [
    "![vm_1.png](../images/vm_1.png)"
   ]
  },
  {
   "cell_type": "code",
   "execution_count": null,
   "id": "54cd1977",
   "metadata": {},
   "outputs": [],
   "source": []
  },
  {
   "cell_type": "markdown",
   "id": "ea4b5934",
   "metadata": {},
   "source": [
    "## Ajustar configurações da VM"
   ]
  },
  {
   "attachments": {},
   "cell_type": "markdown",
   "id": "5135ca5e",
   "metadata": {},
   "source": [
    "### Copiar e colar do computador para VM\n",
    "e vice-versa\n",
    "\n",
    "![vm_3.png](../images/vm_3.png)"
   ]
  },
  {
   "attachments": {},
   "cell_type": "markdown",
   "id": "ccad6e34",
   "metadata": {},
   "source": [
    "### Iniciar a VM\n",
    "\n",
    "![vm_2.png](../images/vm_2.png)"
   ]
  },
  {
   "cell_type": "code",
   "execution_count": null,
   "id": "41589ce3",
   "metadata": {},
   "outputs": [],
   "source": []
  },
  {
   "cell_type": "markdown",
   "id": "7f1869f6",
   "metadata": {},
   "source": [
    "### Configuração do teclado"
   ]
  },
  {
   "attachments": {},
   "cell_type": "markdown",
   "id": "8d20b2b7",
   "metadata": {},
   "source": [
    "![vm_4.png](../images/vm_4.png)"
   ]
  },
  {
   "attachments": {},
   "cell_type": "markdown",
   "id": "396666b8",
   "metadata": {},
   "source": [
    "![vm_5.png](../images/vm_5.png)"
   ]
  },
  {
   "attachments": {},
   "cell_type": "markdown",
   "id": "b9e4c353",
   "metadata": {},
   "source": [
    "![vm_6.png](../images/vm_6.png)"
   ]
  },
  {
   "cell_type": "code",
   "execution_count": null,
   "id": "e75cc999",
   "metadata": {},
   "outputs": [],
   "source": []
  },
  {
   "cell_type": "markdown",
   "id": "b4b2bb09",
   "metadata": {},
   "source": [
    "### Espaço da tela (se necessário)"
   ]
  },
  {
   "attachments": {},
   "cell_type": "markdown",
   "id": "7ab5e310",
   "metadata": {},
   "source": [
    "![vm_7.png](../images/vm_7.png)"
   ]
  },
  {
   "cell_type": "code",
   "execution_count": null,
   "id": "ce6ae7f4",
   "metadata": {},
   "outputs": [],
   "source": []
  },
  {
   "cell_type": "markdown",
   "id": "970b06c7",
   "metadata": {},
   "source": [
    "# Databricks"
   ]
  },
  {
   "cell_type": "markdown",
   "id": "e5ae8ebf",
   "metadata": {},
   "source": [
    "1. Cadastre-se [aqui](https://databricks.com/try-databricks). **Faça pelo celular!!!**\n",
    "1. Complete o registro no comunity edition.\n",
    "![comunity_edition.png](../images/comunity_edition.png)"
   ]
  },
  {
   "cell_type": "code",
   "execution_count": null,
   "id": "2308d62c",
   "metadata": {},
   "outputs": [],
   "source": []
  },
  {
   "cell_type": "markdown",
   "id": "289f9930",
   "metadata": {},
   "source": [
    "## Login\n",
    "\n",
    "https://community.cloud.databricks.com"
   ]
  },
  {
   "cell_type": "code",
   "execution_count": null,
   "id": "13a7ecc0",
   "metadata": {},
   "outputs": [],
   "source": []
  },
  {
   "cell_type": "markdown",
   "id": "a1d44770",
   "metadata": {
    "heading_collapsed": true
   },
   "source": [
    "# Instalar Hadoop Single Node na máquina\n",
    "\n",
    "(não recomendado para quem não tem muita familiaridade com linha de comando!)"
   ]
  },
  {
   "cell_type": "markdown",
   "id": "e50bb69e",
   "metadata": {
    "hidden": true
   },
   "source": [
    "Hadoop:\n",
    "- [Linux](https://hadoop.apache.org/docs/stable/hadoop-project-dist/hadoop-common/SingleCluster.html)\n",
    "- [Windows](https://cwiki.apache.org/confluence/display/HADOOP2/Hadoop2OnWindows)"
   ]
  },
  {
   "cell_type": "markdown",
   "id": "8301de24",
   "metadata": {
    "hidden": true
   },
   "source": [
    "Ports:\n",
    "- [Name Node](http://localhost:9870/explorer.html#/)\n",
    "- [Yarn](http://localhost:8088/cluster/nodelabels)"
   ]
  }
 ],
 "metadata": {
  "kernelspec": {
   "display_name": "Python 3",
   "language": "python",
   "name": "python3"
  },
  "language_info": {
   "codemirror_mode": {
    "name": "ipython",
    "version": 3
   },
   "file_extension": ".py",
   "mimetype": "text/x-python",
   "name": "python",
   "nbconvert_exporter": "python",
   "pygments_lexer": "ipython3",
   "version": "3.8.8"
  },
  "toc": {
   "base_numbering": 1,
   "nav_menu": {},
   "number_sections": true,
   "sideBar": true,
   "skip_h1_title": false,
   "title_cell": "Table of Contents",
   "title_sidebar": "Contents",
   "toc_cell": false,
   "toc_position": {},
   "toc_section_display": true,
   "toc_window_display": true
  }
 },
 "nbformat": 4,
 "nbformat_minor": 5
}
