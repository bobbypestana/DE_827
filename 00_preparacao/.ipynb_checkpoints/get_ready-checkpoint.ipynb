{
 "cells": [
  {
   "cell_type": "markdown",
   "id": "dd2ecb88",
   "metadata": {},
   "source": [
    "# Cloudera Quickstart VM"
   ]
  },
  {
   "cell_type": "markdown",
   "id": "23673968",
   "metadata": {},
   "source": [
    "1. Instalar [Oracle Virtual Box](https://www.virtualbox.org/).\n",
    "1. Baixar e descompactar [cloudera-quickstart-vm-5.13.0-0-virtualbox](https://drive.google.com/file/d/119uTTdSncunEb4bESvArddFY_8Tk4PBX/view?usp=sharing).\n",
    "1. Importar o arquivo da cloudera no Virtual Box. **Vamos fazer juntos!**"
   ]
  },
  {
   "cell_type": "code",
   "execution_count": null,
   "id": "378babba",
   "metadata": {},
   "outputs": [],
   "source": []
  },
  {
   "cell_type": "markdown",
   "id": "970b06c7",
   "metadata": {},
   "source": [
    "# Databricks"
   ]
  },
  {
   "cell_type": "markdown",
   "id": "e5ae8ebf",
   "metadata": {},
   "source": [
    "1. Cadastre-se [aqui](https://databricks.com/try-databricks).\n",
    "1. Complete o registro no comunity edition.\n",
    "![comunity_edition.png](../images/comunity_edition.png)\n",
    "\n",
    "1. Login [aqui](https://community.cloud.databricks.com)"
   ]
  },
  {
   "cell_type": "code",
   "execution_count": null,
   "id": "13a7ecc0",
   "metadata": {},
   "outputs": [],
   "source": []
  },
  {
   "cell_type": "markdown",
   "id": "a1d44770",
   "metadata": {},
   "source": [
    "# Instalar Hadoop Single Node na máquina\n",
    "\n",
    "(não recomendado para quem não tem muita familiaridade com linha de comando!)"
   ]
  },
  {
   "cell_type": "markdown",
   "id": "e50bb69e",
   "metadata": {},
   "source": [
    "Hadoop:\n",
    "- [Linux](https://hadoop.apache.org/docs/stable/hadoop-project-dist/hadoop-common/SingleCluster.html)\n",
    "- [Windows](https://cwiki.apache.org/confluence/display/HADOOP2/Hadoop2OnWindows)"
   ]
  },
  {
   "cell_type": "markdown",
   "id": "8301de24",
   "metadata": {},
   "source": [
    "Ports:\n",
    "- [Name Node](http://localhost:9870/explorer.html#/)\n",
    "- [Yarn](http://localhost:8088/cluster/nodelabels)"
   ]
  }
 ],
 "metadata": {
  "kernelspec": {
   "display_name": "Python 3",
   "language": "python",
   "name": "python3"
  },
  "language_info": {
   "codemirror_mode": {
    "name": "ipython",
    "version": 3
   },
   "file_extension": ".py",
   "mimetype": "text/x-python",
   "name": "python",
   "nbconvert_exporter": "python",
   "pygments_lexer": "ipython3",
   "version": "3.8.8"
  },
  "toc": {
   "base_numbering": 1,
   "nav_menu": {},
   "number_sections": true,
   "sideBar": true,
   "skip_h1_title": false,
   "title_cell": "Table of Contents",
   "title_sidebar": "Contents",
   "toc_cell": false,
   "toc_position": {},
   "toc_section_display": true,
   "toc_window_display": false
  }
 },
 "nbformat": 4,
 "nbformat_minor": 5
}
