{
 "cells": [
  {
   "cell_type": "markdown",
   "id": "79efffda",
   "metadata": {},
   "source": [
    "# Exercício para treinar"
   ]
  },
  {
   "cell_type": "markdown",
   "id": "18659eaf",
   "metadata": {},
   "source": [
    "Nas aula de Banco de Dados, criamos uma base do tipo OLTP (On-line Transaction Processing) para os dados da `northwind`. Vamos criar agora um esboço do que seriam o Data Lake e a Data Warehouse."
   ]
  },
  {
   "cell_type": "code",
   "execution_count": null,
   "id": "7451d8a4",
   "metadata": {},
   "outputs": [],
   "source": []
  },
  {
   "cell_type": "markdown",
   "id": "01009777",
   "metadata": {},
   "source": [
    "## Data Lake"
   ]
  },
  {
   "cell_type": "markdown",
   "id": "ae9235b6",
   "metadata": {},
   "source": [
    "Crie um Data Lake com os dados da base `northwind`. Se precisar de ajuda, siga os passos abaixo."
   ]
  },
  {
   "cell_type": "markdown",
   "id": "0ac8eafa",
   "metadata": {},
   "source": [
    "<details>\n",
    "    <summary>🙆‍♂️ Dica 🙋‍</summary>\n",
    "    \n",
    "    1. Crie um schema chamado `northwind_dl`.\n",
    "    1. Faça o `dump` dos dados no sistema de gerenciamento de arquivos.\n",
    "    1. Crie uma tabela gerenciada dentro de `northwind_dl` para cada arquivo.\n",
    "    1. Execute algumas queries para testar seu fluxo.\n",
    "</details>    "
   ]
  },
  {
   "cell_type": "code",
   "execution_count": null,
   "id": "8c9b1c25",
   "metadata": {},
   "outputs": [],
   "source": []
  },
  {
   "cell_type": "markdown",
   "id": "7f765849",
   "metadata": {},
   "source": [
    "## Data Warehouse\n"
   ]
  },
  {
   "cell_type": "markdown",
   "id": "0485bd0e",
   "metadata": {},
   "source": [
    "Crie um Data Warehouse com os dados do Data Lake  `northwind_dl`. \n",
    "\n",
    "Vamos construílo de duas maneiras:\n",
    "\n",
    "1. Star schema.\n",
    "1. Tabela única.\n",
    "\n",
    "Se precisar de ajuda, siga os passos abaixo."
   ]
  },
  {
   "cell_type": "markdown",
   "id": "6edad37e",
   "metadata": {},
   "source": [
    "<details>\n",
    "    <summary>🙆‍♂️ Dica 🙋‍</summary>\n",
    "    \n",
    "    1. Faça o design do 'Star Schema` e da `Tabela Unica` (tabelas fato e dimensão e os processos para construí-las. \n",
    "    1. Crie um schema chamado `northwind_dw`.\n",
    "    1. Crie as tabelas do Star Schema.\n",
    "    1. Crie a Tabela Única.\n",
    "</details>    "
   ]
  },
  {
   "cell_type": "code",
   "execution_count": null,
   "id": "7e6025e2",
   "metadata": {},
   "outputs": [],
   "source": []
  },
  {
   "cell_type": "markdown",
   "id": "1d783967",
   "metadata": {},
   "source": [
    "## Qual a melhor arquitetura?"
   ]
  },
  {
   "cell_type": "markdown",
   "id": "394ec921",
   "metadata": {},
   "source": [
    "1. Crie um mesmo relatório (de preferÊncia complexo - use algum exercício das aulas de Banco de Dados) usando cada um dos três métodos.\n",
    "1. Quais as vantagens e desvantagens de cada um?"
   ]
  },
  {
   "cell_type": "code",
   "execution_count": null,
   "id": "25c2ea53",
   "metadata": {},
   "outputs": [],
   "source": []
  }
 ],
 "metadata": {
  "kernelspec": {
   "display_name": "Python 3",
   "language": "python",
   "name": "python3"
  },
  "language_info": {
   "codemirror_mode": {
    "name": "ipython",
    "version": 3
   },
   "file_extension": ".py",
   "mimetype": "text/x-python",
   "name": "python",
   "nbconvert_exporter": "python",
   "pygments_lexer": "ipython3",
   "version": "3.8.8"
  },
  "toc": {
   "base_numbering": 1,
   "nav_menu": {},
   "number_sections": true,
   "sideBar": true,
   "skip_h1_title": false,
   "title_cell": "Table of Contents",
   "title_sidebar": "Contents",
   "toc_cell": false,
   "toc_position": {},
   "toc_section_display": true,
   "toc_window_display": false
  }
 },
 "nbformat": 4,
 "nbformat_minor": 5
}
