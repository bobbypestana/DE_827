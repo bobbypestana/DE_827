{
 "cells": [
  {
   "cell_type": "markdown",
   "id": "dc8d03f2",
   "metadata": {},
   "source": [
    "## O que é Big Data?\n",
    "Uma frase para alegrar seu dia.\n",
    "\n",
    "“Data is the new science. Big Data holds the answers.” - Patrick P. Gelsinger\n",
    "\n",
    "Antes de tudo, Big Data também são dados, mas com um tamanho muito maior. Big Data é um termo usado para descrever uma coleção de dados com volume enorme e que cresce exponencialmente, a todo momento.\n",
    "\n",
    "Em resumo, esses dados são tão grandes e complexos que nenhuma das ferramentas tradicionais de gerenciamento de dados é capaz de armazená-los ou processá-los com eficiência.\n"
   ]
  },
  {
   "cell_type": "code",
   "execution_count": null,
   "id": "a676710d",
   "metadata": {},
   "outputs": [],
   "source": []
  },
  {
   "cell_type": "markdown",
   "id": "f4cb24be",
   "metadata": {},
   "source": [
    "\n",
    "## Os 'Vs' do Big Data\n",
    "Em 2001, Gartner articulou a definição do termo Big Data em três 'Vs': Volume, Velocidade e Variedade. Os 'Vs' nos ajudam a ter uma compreensão melhor de como funciona BIg Data, apesar de ser antigo.\n",
    "\n",
    "### Volume\n",
    "O volume dos dados é importante. Com o big data, você terá que processar grandes volumes de dados não estruturados e de baixa densidade.\n",
    "\n",
    "Para algumas organizações, isso pode ser dezenas de terabytes de dados. Para outras, pode ser centenas de petabytes.\n",
    "\n",
    "![Volume](https://s3-sa-east-1.amazonaws.com/lcpi/30e7325f-41b5-4a73-adc7-977ef903e33d.JPG)\n",
    "\n",
    "### Velocidade\n",
    "Velocidade é a taxa mais rápida na qual os dados são recebidos. Normalmente, a velocidade mais alta dos fluxos de dados são feitas diretamente na memória, ao contrário da gravação em disco.\n",
    "\n",
    "### Variedade\n",
    "Variedade refere-se aos muitos tipos de dados disponíveis. Os tipos de dados tradicionais foram estruturados e se encaixam perfeitamente em um banco de dados relacional. Com o aumento do big data, os dados vêm em novos tipos de dados não estruturados. Tipos de dados não estruturados e semiestruturados, como texto, áudio e vídeo, requerem pré-processamento adicional para derivar significado e dar suporte a metadados.\n",
    "\n",
    "Para entender melhor o que é dados estruturados, semi-estruturado e não estruturado, uma leve explicação abaixo:\n",
    "\n",
    "- Estruturado. Dados com comprimento e tipo pré-definidos agrupados em linhas e colunas. Ex: Números, strings, Banco de Dados, etc.\n",
    "\n",
    "- Semi-Estruturado. Dados que não possuem um comprimento ou tipo definido, mas tem formato padronizado. Ex: Arquivos xml, json, Avro, parquet.\n",
    "\n",
    "- Não Estruturado. Dados que não possuem uma estrutura ou formato padrão. Ex: Vídeos, imagens, redes sociais, texto.\n",
    "\n",
    "Com o passar do tempo e da quantidade de dados produzida aumentando drasticamente , a IBM introduziu mais dois Vs, que seria Veracidade e mais importante do Big Data, o Valor.\n",
    "\n",
    "### Veracidade\n",
    "A Veracidade refere-se à qualidade dos dados que estão sendo analisados. Os dados de alta veracidade têm muitos registros valiosos para analisar e que contribuem de maneira significativa para os resultados gerais. Os dados de baixa veracidade, por outro lado, contêm uma alta porcentagem de dados sem sentido.\n",
    "\n",
    "### Valor\n",
    "O valor que os dados geram para os usuários e para os negócios. Já sabemos que temos um volume colossal de dados gerados a cada minuto de diversas fontes e formatos, dados estes que devem ser verídicos para gerar valor,\n",
    "\n"
   ]
  },
  {
   "cell_type": "code",
   "execution_count": null,
   "id": "8dfad789",
   "metadata": {},
   "outputs": [],
   "source": []
  },
  {
   "cell_type": "markdown",
   "id": "b2ffe7d9",
   "metadata": {},
   "source": [
    "## Exemplos de Implementações do Big Data\n",
    "Os dados podem vir de inúmeras fontes diferentes, como sistemas de transações, bancos de dados, registros médicos, logs, aplicativos móveis, redes sociais, dados gerados por sensores em tempo real.\n",
    "\n",
    "Usando dados do cliente como exemplo, os diferentes ramos da análise que podem ser feitos com as informações encontradas em conjuntos de dados incluem o seguinte:\n",
    "\n",
    "- Análise comparativa. Isso inclui o análise das métricas de comportamento do usuário e a observação do envolvimento do cliente em tempo real , a fim de comparar os produtos, serviços.\n",
    "\n",
    "- Mídias Sociais. Essas são as informações sobre o que as pessoas estão dizendo nas mídias sociais sobre um negócio ou produto específico que vai além do que pode ser entregue em uma enquete ou pesquisa. Esses dados podem ser usados para ajudar a identificar o público-alvo das campanhas de marketing.\n",
    "\n",
    "- Análise de marketing. Isso inclui informações que podem ser usadas para tornar a promoção de novos produtos, serviços e iniciativas mais informativas e inovadoras.\n",
    "\n",
    "- Análise de satisfação e sentimento do cliente. Todas as informações coletadas podem revelar como os clientes estão se sentindo em relação a uma empresa ou marca, se houver algum problema em potencial, como a lealdade à marca pode ser preservada e como os esforços de atendimento ao cliente podem ser aprimorados.\n",
    "\n"
   ]
  },
  {
   "cell_type": "code",
   "execution_count": null,
   "id": "fdc84914",
   "metadata": {},
   "outputs": [],
   "source": []
  },
  {
   "cell_type": "markdown",
   "id": "762d369c",
   "metadata": {},
   "source": [
    "## Vantagens e desvantagens do Big Data\n",
    "O aumento na quantidade de dados disponíveis apresenta oportunidades e problemas.\n",
    "\n",
    "Em geral, ter mais dados sobre os clientes deve permitir que as empresas adaptem melhor seus produtos e esforços de marketing para criar o mais alto nível de satisfação e repetir negócios. As empresas capazes de coletar uma grande quantidade de dados têm a oportunidade de realizar análises mais profundas e mais ricas.\n",
    "\n",
    "Embora uma análise melhor seja positiva, o big data também pode criar sobrecarga e qualidade. As empresas precisam ser capazes de lidar com grandes volumes de dados, enquanto determinam quais dados representam geram valor para negócio, nem sempre os dados podem vir com melhor qualidade. Determinar o que torna os dados relevantes se torna um fator-chave.\n",
    "\n",
    "Além disso, a natureza e o formato dos dados podem exigir tratamento especial antes de serem adotados. Dados estruturados, consistindo em valores numéricos, podem ser facilmente armazenados e classificados. Dados não estruturados, como e-mails, vídeos e documentos de texto, podem exigir a aplicação de técnicas mais sofisticadas antes que se tornem úteis.\n",
    "\n"
   ]
  },
  {
   "cell_type": "code",
   "execution_count": null,
   "id": "3900abd1",
   "metadata": {},
   "outputs": [],
   "source": []
  },
  {
   "cell_type": "markdown",
   "id": "4adc4aab",
   "metadata": {},
   "source": [
    "## Computação Paralela\n",
    "Uso simultâneo de várias CPUs para realizar trabalhos computacionais.\n",
    "\n",
    "Utilizando essa técnica, é possível ultrapassar as limitações tecnológicas de uma máquina, aumentando sua velocidade e poder de processamento.\n",
    "\n",
    "Exemplo:\n",
    "![Comp_paralela](https://s3-sa-east-1.amazonaws.com/lcpi/cef0fccd-8172-4de4-b7b7-140db9f8a735.png)\n",
    "\n",
    "Objetivos:\n",
    "\n",
    "- Resolver problemas maiores\n",
    "- Resolver mais rápido\n",
    "- Resolver problemas mais complexos\n"
   ]
  },
  {
   "cell_type": "code",
   "execution_count": null,
   "id": "14c3290a",
   "metadata": {},
   "outputs": [],
   "source": []
  },
  {
   "cell_type": "markdown",
   "id": "35777344",
   "metadata": {},
   "source": [
    "\n",
    "## Computação Distribuída\n",
    "Coleção de computadores autônomos interligados através de uma rede de computadores e equipados com software que permita o compartilhamento dos recursos do sistema: hardware, software e dados.\n",
    "\n",
    "### Cluster:\n",
    "Sistema que relaciona dois ou mais computadores para que estes trabalhem de maneira conjunta no intuito de processar uma tarefa.\n",
    "Enquanto no  multiprocessamento simétrico ou SMP (Symmetric Multi-Processing) todas as CPUs se encontram na mesma máquina, no processamento distribuído várias CPUs estão separadas fisicamente e se interligam para formar um cluster.\n",
    "\n",
    "![Comp_distribuida](https://s3-sa-east-1.amazonaws.com/lcpi/4ded6015-d355-4da4-a713-b160e069e671.png)\n",
    "\n"
   ]
  },
  {
   "cell_type": "code",
   "execution_count": null,
   "id": "186bb281",
   "metadata": {},
   "outputs": [],
   "source": []
  },
  {
   "cell_type": "markdown",
   "id": "a2dc2b07",
   "metadata": {},
   "source": [
    "## Computação Paralela x Computação Distribuída\n",
    "![Comp_paralela](https://s3-sa-east-1.amazonaws.com/lcpi/8cce4a52-92aa-40ac-8f06-977722b22ee1.png)\n",
    "\n"
   ]
  },
  {
   "cell_type": "code",
   "execution_count": null,
   "id": "24140877",
   "metadata": {},
   "outputs": [],
   "source": []
  },
  {
   "cell_type": "markdown",
   "id": "8a24d47b",
   "metadata": {},
   "source": [
    "## Escalonamento Vertical x Escalonamento Horizontal\n",
    "![Comp_paralela](https://s3-sa-east-1.amazonaws.com/lcpi/eb1464f4-8921-45fa-8486-ef38cd814a64.png)\n",
    "- Scale up tem relação com Computação Paralela.\n",
    "- Scale out tem relação com Computação Distribuída\n"
   ]
  },
  {
   "cell_type": "code",
   "execution_count": null,
   "id": "248b08ff",
   "metadata": {},
   "outputs": [],
   "source": []
  }
 ],
 "metadata": {
  "kernelspec": {
   "display_name": "Python 3",
   "language": "python",
   "name": "python3"
  },
  "language_info": {
   "codemirror_mode": {
    "name": "ipython",
    "version": 3
   },
   "file_extension": ".py",
   "mimetype": "text/x-python",
   "name": "python",
   "nbconvert_exporter": "python",
   "pygments_lexer": "ipython3",
   "version": "3.8.8"
  },
  "toc": {
   "base_numbering": 1,
   "nav_menu": {},
   "number_sections": true,
   "sideBar": true,
   "skip_h1_title": false,
   "title_cell": "Table of Contents",
   "title_sidebar": "Contents",
   "toc_cell": false,
   "toc_position": {
    "height": "calc(100% - 180px)",
    "left": "10px",
    "top": "150px",
    "width": "323px"
   },
   "toc_section_display": true,
   "toc_window_display": true
  }
 },
 "nbformat": 4,
 "nbformat_minor": 5
}
