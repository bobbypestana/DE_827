{
 "cells": [
  {
   "cell_type": "markdown",
   "id": "790750a4",
   "metadata": {},
   "source": [
    "# Exercícios"
   ]
  },
  {
   "cell_type": "markdown",
   "id": "6641f7fc",
   "metadata": {},
   "source": [
    "## Preparação\n",
    "\n",
    "Usando os arquivos de `dados/hr`:\n",
    "1. crie um schema (base) `hr_827`.\n",
    "1. crie dentro desse schema uma tabela para cada arquivo. "
   ]
  },
  {
   "cell_type": "code",
   "execution_count": null,
   "id": "1ab237ef",
   "metadata": {},
   "outputs": [],
   "source": []
  },
  {
   "cell_type": "markdown",
   "id": "c1639577",
   "metadata": {},
   "source": [
    "##  Usando `pyspark`, responda"
   ]
  },
  {
   "cell_type": "markdown",
   "id": "b042f22a",
   "metadata": {},
   "source": [
    "1. Em quantos países a empresa está presente, de acordo com os dados da tabela `location`?\n",
    "<br/><br/>\n",
    "1. Em quais cidades inglesas e alemãs a empresa está presente?\n",
    "<br/><br/>\n",
    "1. Faça um relatório que traga o primeiro nome colaborador e o número de dependentes (colaborador | dependentes). Importante que os colaboradores que não tem dependentes também apareçam na lista. A lista deve ser ordenada pelo número de dependentes, do maior para o menor e em seguida por ordem alfabética.\n",
    "<br/><br/>\n",
    "1. A empresa está passando por uma reestruturação e precisa saber quantos funcionários estão alocados em cada departamento, bem como o total e a média de salários deles. Faça um relatório no formato nome_departamento | numero_funcionarios | salario_total | salario_medio ordenado por salario medio, do maior para o menor. Os números decimais devem conter duas casas após a virgula.\n",
    "<br/><br/>\n",
    "1. Faça um relatório que apresente o número de funcionários, o salario total e médio por departamento e país.\n",
    "<br/><br/>\n",
    "1. Traga o valor acumulado por departamento de cada pais.\n",
    "<br/><br/>\n",
    "1. Qual a média de salário dos programadores?\n",
    "<br/><br/>\n",
    "1. Quantos funcionários recebem o salário mínimo da função?\n",
    "<br/><br/>\n",
    "1. Quantos funcionários recebem o salário máximo da função?"
   ]
  },
  {
   "cell_type": "code",
   "execution_count": null,
   "id": "21621f50",
   "metadata": {},
   "outputs": [],
   "source": []
  }
 ],
 "metadata": {
  "kernelspec": {
   "display_name": "Python 3",
   "language": "python",
   "name": "python3"
  },
  "language_info": {
   "codemirror_mode": {
    "name": "ipython",
    "version": 3
   },
   "file_extension": ".py",
   "mimetype": "text/x-python",
   "name": "python",
   "nbconvert_exporter": "python",
   "pygments_lexer": "ipython3",
   "version": "3.8.8"
  },
  "toc": {
   "base_numbering": 1,
   "nav_menu": {},
   "number_sections": true,
   "sideBar": true,
   "skip_h1_title": false,
   "title_cell": "Table of Contents",
   "title_sidebar": "Contents",
   "toc_cell": false,
   "toc_position": {},
   "toc_section_display": true,
   "toc_window_display": false
  }
 },
 "nbformat": 4,
 "nbformat_minor": 5
}
